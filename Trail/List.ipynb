{
 "cells": [
  {
   "cell_type": "markdown",
   "metadata": {},
   "source": [
    "## List\n",
    "Collection of hetrogeneous elsements inside [] and each element can be called using position\n"
   ]
  },
  {
   "cell_type": "code",
   "execution_count": 23,
   "metadata": {},
   "outputs": [
    {
     "name": "stdout",
     "output_type": "stream",
     "text": [
      "6\n",
      "False\n",
      "element\n",
      "[8.4, False]\n",
      "[2j, 'element', False, 8.4, -2, 1]\n",
      "[1, 8.4, 'element']\n",
      "['first', True, 12, 34j, 34, -89, 7j]\n",
      "[1, -2, 8.4, False, 'element', 2j, 1, -2, 8.4, False, 'element', 2j, 1, -2, 8.4, False, 'element', 2j]\n",
      "-6\n",
      "elementelementelement\n",
      "0\n",
      "True\n"
     ]
    }
   ],
   "source": [
    "list1=[1,-2,8.4,False,\"element\",2j]\n",
    "#basic proprty=>len,indexing\n",
    "#1.len\n",
    "print(len(list1)) #returnns length of list\n",
    "\n",
    "\n",
    "#2.indexing\n",
    "print(list1[3]) #indexing returns value in that position ->left to right indexing\n",
    "print(list1[-2]) #indexing returns value in that position ->left to right indexing\n",
    "\n",
    "#3.slicing->returns a chunk of elements from list from start to end position excluding value in end position\n",
    "#Syntax:String Name[start:end:Step]\n",
    "\n",
    "print(list1[2:4]) # takes 1 as default step count\n",
    "print(list1[::-1]) # slicing from right to left when negative step count is given\n",
    "print(list1[0:len(list1):2]) # skip 2 position as step is 2\n",
    "\n",
    "#4.Concatenation=>+=>used to merge 2 list\n",
    "list_1=[\"first\",True,12,34j]\n",
    "list_2=[34,-89,7j]\n",
    "print(list_1+list_2)\n",
    "\n",
    "#5.Repition =>Syntax:List Name*number\n",
    "print(list1*3)\n",
    "print(list1[1]*3)#integer multiplication\n",
    "print(list1[4]*3)#String multiplication\n",
    "print(list1[3]*3)#String multiplication\n",
    "\n",
    "#6.Membership =>return true if character is present in list\n",
    "print(False in list1)"
   ]
  },
  {
   "cell_type": "code",
   "execution_count": 14,
   "metadata": {},
   "outputs": [
    {
     "name": "stdout",
     "output_type": "stream",
     "text": [
      "2\n",
      "[]\n",
      "[1, 2j, 'element', False, 8.4, -2, 1]\n",
      "[-2, False, 1, 1, 8.4]\n",
      "[8.4, 1, 1, False, -2]\n",
      "['Apple', 'Banana', 'False', 'name']\n",
      "['first', True, 12, 34j, 34, -89, 7j]\n",
      "0\n",
      "None\n",
      "['First', True, 12, 34j, 'First', 'last', 'last']\n",
      "None\n",
      "['First', 'insert', 'insert', True, 12, 34j, 'First', 'last', 'last']\n",
      "['First', 'Replace', 'insert', True, 12, 34j, 'First', 'last', 'last']\n",
      "['First', 'Replace', 'insert', True, 12, 34j, 'First', 'last']\n",
      "last\n",
      "['First', 'Replace', 'insert', True, 12, 34j, 'First']\n",
      "Replace\n",
      "['First', 'insert', True, 12, 34j, 'First']\n"
     ]
    }
   ],
   "source": [
    "#Methods->combining methods and print wont work in most cases.List will be automatically updated on calling method.no need to save seperately\n",
    "dir(list) #to find methods of list\n",
    "list1=[1,-2,8.4,False,\"element\",2j,1]\n",
    "\n",
    "#1/.Count->to count number of times elements found in list\n",
    "print(list1.count(1))\n",
    "\n",
    "#2.Clear->To make the list empty.It dont return anything .List will be updated so to print we need to print sepearately.Instead of combining print and clear\n",
    "\n",
    "list1.clear()\n",
    "print(list1)\n",
    "\n",
    "#3.reverse->To reverse elements in list.Combining print and reverse wont work\n",
    "list1=[1,-2,8.4,False,\"element\",2j,1]\n",
    "list1.reverse()\n",
    "print(list1)\n",
    "\n",
    "#4.sort->Used to sort values of same datatype.Boolean will be converted to int.String and complex cant be combined with int or float\n",
    "list1=[1,-2,8.4,False,1]\n",
    "list1.sort()#to sort in Ascending order\n",
    "print(list1)\n",
    "list1.sort(reverse=True)#to sort in Descending order\n",
    "print(list1)\n",
    "list1=[\"name\",\"Apple\",\"False\",\"Banana\"]\n",
    "list1.sort()#to sort in Ascending order based on ASCII value\n",
    "print(list1)\n",
    "\n",
    "#5.extend=>Same as concat operator\n",
    "list_1=[\"first\",True,12,34j]\n",
    "list_2=[34,-89,7j]\n",
    "list_1.extend(list_2)\n",
    "print(list_1)\n",
    "\n",
    "#6.indexing=>returns the position of first element in the list\n",
    "list_1=[\"First\",True,12,34j,\"First\"]\n",
    "\n",
    "print(list_1.index(\"First\"))\n",
    "\n",
    "#7.Append=>Add an element to the end of the list\n",
    "print(list_1.append(\"last\"))# this wont return anything it straight away update the list\n",
    "list_1.append(\"last\")\n",
    "print(list_1)\n",
    "\n",
    "#8.Insert=>Insert an element at particular position\n",
    "print(list_1.insert(1,\"insert\"))# this wont return anything it straight away update the list\n",
    "list_1.insert(1,\"insert\")\n",
    "print(list_1)\n",
    "\n",
    "#9.Replace=>replace a value in position with another value\n",
    "list_1[1]=\"Replace\"\n",
    "print(list_1)\n",
    "\n",
    "#10.remove=>remove an element based on value that to only the first element in the left \n",
    "list_1.remove(\"last\")\n",
    "print(list_1)\n",
    "\n",
    "#11.pop=>remove an element based on position instead of value and removal will be from the left\n",
    "print(list_1.pop())#remove last element and return the element that is being removed\n",
    "print(list_1)\n",
    "print(list_1.pop(1))\n",
    "print(list_1)"
   ]
  },
  {
   "cell_type": "code",
   "execution_count": 7,
   "metadata": {},
   "outputs": [
    {
     "name": "stdout",
     "output_type": "stream",
     "text": [
      "95988168\n",
      "95988168\n",
      "[2, -2, 8.4, [1, 'new', 3], False, 'element', 2j, 1]\n",
      "[2, -2, 8.4, [1, 'new', 3], False, 'element', 2j, 1]\n",
      "95988168\n",
      "95988168\n",
      "[2, -2, 8.4, [1, 'new', 'insert', 3], False, 'element', 2j, 1]\n",
      "[2, -2, 8.4, [1, 'new', 'insert', 3], False, 'element', 2j, 1]\n"
     ]
    }
   ],
   "source": [
    "#List Copy\n",
    "#Aliasing->\"=\" is used to create copy of list1 in list2 in which memory location/ID will be same and changesmade to one list will  reflect in other.Even changes made to one sublist will reflect in another\n",
    "list1=[1,-2,8.4,[1,2,3],False,\"element\",2j,1]\n",
    "list2=list1\n",
    "list1[0]=2\n",
    "list1[3][1]=\"new\"\n",
    "print(id(list1))\n",
    "print(id(list2))\n",
    "print(list1)\n",
    "print(list2)\n",
    "list1[3].insert(2,\"insert\")\n",
    "print(id(list1))\n",
    "print(id(list2))\n",
    "print(list1)\n",
    "print(list2)"
   ]
  },
  {
   "cell_type": "code",
   "execution_count": 12,
   "metadata": {},
   "outputs": [
    {
     "name": "stdout",
     "output_type": "stream",
     "text": [
      "93571144\n",
      "96081160\n",
      "92403336\n",
      "[2, -2, 8.4, [1, 'new', 3], False, 'element', 2j, 1]\n",
      "[1, -2, 8.4, [1, 'new', 3], False, 'element', 2j, 1]\n",
      "[1, -2, 8.4, [1, 'new', 3], False, 'element', 2j, 1]\n",
      "93571144\n",
      "96081160\n",
      "92403336\n",
      "[2, -2, 8.4, [1, 'new', 'insert', 3], False, 'element', 2j, 1]\n",
      "[1, -2, 8.4, [1, 'new', 'insert', 3], False, 'element', 2j, 1]\n",
      "[1, -2, 8.4, [1, 'new', 'insert', 3], False, 'element', 2j, 1]\n"
     ]
    }
   ],
   "source": [
    "#Shallow Copy=> create copy of list1 in list2 in which memory location/ID will be different and changesmade to one list will not reflect in other.but changes made to one sublist will reflect in another\n",
    "import copy\n",
    "list1=[1,-2,8.4,[1,2,3],False,\"element\",2j,1]\n",
    "list2=copy.copy(list1)#syntax 1\n",
    "list3=list1.copy() #syntax 2\n",
    "list1[0]=2\n",
    "list1[3][1]=\"new\"\n",
    "print(id(list1))\n",
    "print(id(list2))\n",
    "print(id(list3))\n",
    "print(list1)\n",
    "print(list2)\n",
    "print(list3)\n",
    "list1[3].insert(2,\"insert\")\n",
    "print(id(list1))\n",
    "print(id(list2))\n",
    "print(id(list3))\n",
    "print(list1)\n",
    "print(list2)\n",
    "print(list3)\n"
   ]
  },
  {
   "cell_type": "code",
   "execution_count": 9,
   "metadata": {},
   "outputs": [
    {
     "name": "stdout",
     "output_type": "stream",
     "text": [
      "93058312\n",
      "93634248\n",
      "[1, -2, 8.4, [1, 'new1', 3], False, 'element', 2j, 1]\n",
      "[1, -2, 8.4, [1, 2, 3], False, 'element', 2j, 1]\n",
      "93058312\n",
      "93634248\n",
      "[1, -2, 8.4, [1, 'new1', 'insert1', 3], False, 'element', 2j, 1]\n",
      "[1, -2, 8.4, [1, 2, 3], False, 'element', 2j, 1]\n"
     ]
    }
   ],
   "source": [
    "#Deep Copy=> create copy of list1 in list2 in which memory location/ID will be different and changesmade to one list will not reflect in other.even changes made to one sublist will not reflect in another\n",
    "import copy\n",
    "list1=[1,-2,8.4,[1,2,3],False,\"element\",2j,1]\n",
    "list2=copy.deepcopy(list1)\n",
    "list1[3][1]=\"new1\"\n",
    "print(id(list1))\n",
    "print(id(list2))\n",
    "print(list1)\n",
    "print(list2)\n",
    "list1[3].insert(2,\"insert1\")\n",
    "print(id(list1))\n",
    "print(id(list2))\n",
    "print(list1)\n",
    "print(list2)"
   ]
  },
  {
   "cell_type": "code",
   "execution_count": null,
   "metadata": {},
   "outputs": [],
   "source": []
  }
 ],
 "metadata": {
  "kernelspec": {
   "display_name": "Python 3",
   "language": "python",
   "name": "python3"
  },
  "language_info": {
   "codemirror_mode": {
    "name": "ipython",
    "version": 3
   },
   "file_extension": ".py",
   "mimetype": "text/x-python",
   "name": "python",
   "nbconvert_exporter": "python",
   "pygments_lexer": "ipython3",
   "version": "3.7.3"
  }
 },
 "nbformat": 4,
 "nbformat_minor": 2
}
