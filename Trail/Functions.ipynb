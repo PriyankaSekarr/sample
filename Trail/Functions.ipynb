{
 "cells": [
  {
   "cell_type": "markdown",
   "metadata": {},
   "source": [
    "## Functions:\n",
    "When a set of code is repeated multiple times then we can put it under funciton and call whenever required\n",
    "updation or debugging is easier as changes made once will be impacted in all places\n",
    "Function need to be created first in the coding then only we can call\n",
    "function can be used from one phyton code to another\n",
    "def funcitonname(args1):\n",
    "\"\"\" this will retun information about the funciton as Docstring\"\"\"\n",
    "   statement1\n",
    "   statement2\n",
    "   value =---\n",
    "   return value #if return is not used then the funciton wont return any values\n",
    "   \n",
    "### Function calling \n",
    "functionname(args2) #if we use shift tab to understand the fucntion then the multiline comment next to the function will display as Docstring\n",
    "\n",
    "function inside a class is called methods\n",
    "function inside a python file is called module\n",
    "\n",
    "Whenever we declare a function,it will not be compiled by the compiler instead it will be just saved in a memory space ,only when we call the funciton, it will start compiling.However syntax error alone will be notified.In general when we declare a funciton it doesnot mean tat it runs.Only when we call the funciton then we can understand\n"
   ]
  },
  {
   "cell_type": "markdown",
   "metadata": {},
   "source": [
    "## Types of Arguments\n",
    "args1->formal argument->for reference we use this while declaration\n",
    "args2->actual argument->original value that we are passing to the funciton\n",
    "\n",
    "#### Positional Arguments:\n",
    "In formal and Actual arguments we need to provide same number of arguments and also we need to mention the values in correct position\n",
    "ex in below area_circle example ,passsing values in wrong position will return wrong output\n",
    "\n",
    "#### Keyword Arguments:\n",
    "In formal and Actual arguments we need to provide same number of arguments and also we need to mention the values in different position by we need to explicitly mention argument name\n",
    "\n",
    "#### Default Arguments:\n",
    "If we fail to send Actual arguments then the default argument declared in formal arguments will be taken.here passing value for default argument is optional\n",
    "\n",
    "#### Variable Length Arguments:\n",
    "here in syntax we use * .and in actual we will be passing a multi valued tuple or list as arguments.Based on how many variables we are declaring in formal arguments.actual will be adjusted\n",
    "values after * will be considered as tuples\n"
   ]
  },
  {
   "cell_type": "code",
   "execution_count": 39,
   "metadata": {},
   "outputs": [
    {
     "name": "stdout",
     "output_type": "stream",
     "text": [
      "314.0\n",
      "98.596\n",
      "314.0\n",
      "314.0\n",
      "314.0\n",
      "314.0\n",
      "314.0\n",
      "1000\n",
      "(2, 3, 4, 5) <class 'tuple'>\n",
      "14\n",
      "(3, 4, 5, 6, 7) <class 'tuple'>\n",
      "25\n"
     ]
    }
   ],
   "source": [
    "#positional Arguments\n",
    "def areacircle(r,p):\n",
    "    return p*r*r\n",
    "\n",
    "print(areacircle(10,3.14))\n",
    "print(areacircle(3.14,10))\n",
    "#print(areacircle(10,3.14,99)) will throw error as number of arguments not matching\n",
    "\n",
    "#Keyword Arguments\n",
    "def areacircle(r,p):\n",
    "    return p*r*r\n",
    "\n",
    "print(areacircle(10,3.14))\n",
    "print(areacircle(p=3.14,r=10))\n",
    "#print(areacircle(r=10,p=3.14,99)) will throw error as number of arguments not matching\n",
    "\n",
    "#Default Arguments\n",
    "def areacircle(r,p=3.14):\n",
    "    return p*r*r\n",
    "\n",
    "print(areacircle(10))\n",
    "print(areacircle(p=3.14,r=10))\n",
    "print(areacircle(10,3.14))\n",
    "print(areacircle(10,10))\n",
    "#print(areacircle(r=10,p=3.14,99)) will throw error as number of arguments not matching\n",
    "\n",
    "#variablelength Arguments\n",
    "def totalsum1(a,*b):\n",
    "    first=a\n",
    "    total=0\n",
    "    print(b,type(b))\n",
    "    for i in b:       \n",
    "        total=total + i\n",
    "        \n",
    "    return total\n",
    "\n",
    "def totalsum2(a,b,*c):\n",
    "    first=a\n",
    "    second=b\n",
    "    total=0\n",
    "    print(c,type(c))\n",
    "    for i in c:       \n",
    "        total=total + i\n",
    "        \n",
    "    return total\n",
    "    \n",
    "print(totalsum1(1,2,3,4,5))\n",
    "print(totalsum2(1,2,3,4,5,6,7))\n"
   ]
  },
  {
   "cell_type": "markdown",
   "metadata": {},
   "source": [
    "## Type of variable\n",
    "Global Variable\n",
    "These variables have scope inside the entire Python Program\n",
    "You can use the keyword global to use that variable across anywhere\n",
    "even if a variable is declared inside a function using the word global it will be considered as global variable\n",
    "\n",
    "Local Variable\n",
    "These variables have scope inside the FUNCTION only"
   ]
  },
  {
   "cell_type": "code",
   "execution_count": null,
   "metadata": {},
   "outputs": [],
   "source": [
    "#function without argument\n",
    "def add():\n",
    "    num1=int(input(\"Provide first number:\"))\n",
    "    num2=int(input(\"Provide second number:\"))\n",
    "    result=num1+num2\n",
    "    print(f\"sum of number {result}\")\n",
    "\n",
    "for i in range(0,5):\n",
    "    add()"
   ]
  },
  {
   "cell_type": "code",
   "execution_count": 41,
   "metadata": {},
   "outputs": [
    {
     "name": "stdout",
     "output_type": "stream",
     "text": [
      "red\n",
      "yellow\n",
      "blue\n",
      "red\n",
      "blue\n"
     ]
    }
   ],
   "source": [
    "pen=\"red\"\n",
    "pen1=\"blue\"\n",
    "def color():\n",
    "    pen=\"yellow\" # this will be used only when function is called,rest time \n",
    "    print(pen)\n",
    "    print(pen1)\n",
    "    global pen2\n",
    "    pen2=\"blue\"#global declaration\n",
    "    \n",
    "print(pen)\n",
    "color()\n",
    "print(pen)\n",
    "print(pen2)"
   ]
  },
  {
   "cell_type": "code",
   "execution_count": 1,
   "metadata": {},
   "outputs": [
    {
     "ename": "NameError",
     "evalue": "name 'pen' is not defined",
     "output_type": "error",
     "traceback": [
      "\u001b[1;31m---------------------------------------------------------------------------\u001b[0m",
      "\u001b[1;31mNameError\u001b[0m                                 Traceback (most recent call last)",
      "\u001b[1;32m<ipython-input-1-4197376e4710>\u001b[0m in \u001b[0;36m<module>\u001b[1;34m\u001b[0m\n\u001b[0;32m      3\u001b[0m     \u001b[0mprint\u001b[0m\u001b[1;33m(\u001b[0m\u001b[0mpen\u001b[0m\u001b[1;33m)\u001b[0m\u001b[1;33m\u001b[0m\u001b[1;33m\u001b[0m\u001b[0m\n\u001b[0;32m      4\u001b[0m \u001b[1;33m\u001b[0m\u001b[0m\n\u001b[1;32m----> 5\u001b[1;33m \u001b[0mprint\u001b[0m\u001b[1;33m(\u001b[0m\u001b[0mpen\u001b[0m\u001b[1;33m)\u001b[0m\u001b[1;33m\u001b[0m\u001b[1;33m\u001b[0m\u001b[0m\n\u001b[0m\u001b[0;32m      6\u001b[0m \u001b[0mcolor\u001b[0m\u001b[1;33m(\u001b[0m\u001b[1;33m)\u001b[0m\u001b[1;33m\u001b[0m\u001b[1;33m\u001b[0m\u001b[0m\n\u001b[0;32m      7\u001b[0m \u001b[0mprint\u001b[0m\u001b[1;33m(\u001b[0m\u001b[0mpen\u001b[0m\u001b[1;33m)\u001b[0m\u001b[1;33m\u001b[0m\u001b[1;33m\u001b[0m\u001b[0m\n",
      "\u001b[1;31mNameError\u001b[0m: name 'pen' is not defined"
     ]
    }
   ],
   "source": [
    "def color():\n",
    "    pen=\"yellow\" # this will be used only when function is called,rest time global variable will be considered.As this pen dont have global declaration it will throw error\n",
    "    print(pen)\n",
    "    \n",
    "print(pen)\n",
    "color()\n",
    "print(pen)"
   ]
  },
  {
   "cell_type": "code",
   "execution_count": 11,
   "metadata": {},
   "outputs": [
    {
     "name": "stdout",
     "output_type": "stream",
     "text": [
      "sum of number 1\n",
      "returned value 1\n",
      "sum of number 3\n",
      "returned value 3\n",
      "sum of number 5\n",
      "returned value 5\n",
      "sum of number 7\n",
      "returned value 7\n",
      "sum of number 9\n",
      "returned value 9\n"
     ]
    }
   ],
   "source": [
    "#function with argument\n",
    "def add(num1,num2):\n",
    "    result=num1+num2\n",
    "    print(f\"sum of number {result}\")\n",
    "    return result\n",
    "\n",
    "for i in range(0,5):\n",
    "    returnedval=add(i,i+1)\n",
    "    print(f\"returned value {returnedval}\")\n",
    "  "
   ]
  },
  {
   "cell_type": "code",
   "execution_count": 16,
   "metadata": {},
   "outputs": [
    {
     "name": "stdout",
     "output_type": "stream",
     "text": [
      "Addition value 1 <class 'int'>\n",
      "operation value (3, -1, 0.5) <class 'tuple'>\n",
      "Addition value 3 <class 'int'>\n",
      "operation value (5, -1, 0.6666666666666666) <class 'tuple'>\n",
      "Addition value 5 <class 'int'>\n",
      "operation value (7, -1, 0.75) <class 'tuple'>\n",
      "Addition value 7 <class 'int'>\n",
      "operation value (9, -1, 0.8) <class 'tuple'>\n",
      "Addition value 9 <class 'int'>\n",
      "operation value (11, -1, 0.8333333333333334) <class 'tuple'>\n"
     ]
    }
   ],
   "source": [
    "#function with argument\n",
    "def operation(num1,num2):\n",
    "    add=num1+num2\n",
    "    sub=num1-num2\n",
    "    mul=num1*num2\n",
    "    div=num1/num2\n",
    "    return add,sub,div\n",
    "\n",
    "for i in range(0,5):\n",
    "    add1,sub1,div1=operation(i,i+1)\n",
    "    operation1=operation(i+1,i+2)\n",
    "    print(f\"Addition value {add1}\",type(add1))\n",
    "    print(f\"operation value {operation1}\",type(operation1))\n",
    "  "
   ]
  },
  {
   "cell_type": "code",
   "execution_count": 2,
   "metadata": {},
   "outputs": [
    {
     "data": {
      "text/plain": [
       "'filename2'"
      ]
     },
     "execution_count": 2,
     "metadata": {},
     "output_type": "execute_result"
    }
   ],
   "source": []
  },
  {
   "cell_type": "code",
   "execution_count": null,
   "metadata": {},
   "outputs": [],
   "source": []
  },
  {
   "cell_type": "code",
   "execution_count": null,
   "metadata": {},
   "outputs": [],
   "source": []
  }
 ],
 "metadata": {
  "kernelspec": {
   "display_name": "Python 3",
   "language": "python",
   "name": "python3"
  },
  "language_info": {
   "codemirror_mode": {
    "name": "ipython",
    "version": 3
   },
   "file_extension": ".py",
   "mimetype": "text/x-python",
   "name": "python",
   "nbconvert_exporter": "python",
   "pygments_lexer": "ipython3",
   "version": "3.7.3"
  }
 },
 "nbformat": 4,
 "nbformat_minor": 2
}
